{
 "cells": [
  {
   "cell_type": "markdown",
   "metadata": {},
   "source": [
    "# Data Cleaning"
   ]
  },
  {
   "cell_type": "code",
   "execution_count": 3,
   "metadata": {
    "ExecuteTime": {
     "end_time": "2022-07-09T12:34:21.018684Z",
     "start_time": "2022-07-09T12:34:20.978672Z"
    }
   },
   "outputs": [
    {
     "data": {
      "text/html": [
       "<div>\n",
       "<style scoped>\n",
       "    .dataframe tbody tr th:only-of-type {\n",
       "        vertical-align: middle;\n",
       "    }\n",
       "\n",
       "    .dataframe tbody tr th {\n",
       "        vertical-align: top;\n",
       "    }\n",
       "\n",
       "    .dataframe thead th {\n",
       "        text-align: right;\n",
       "    }\n",
       "</style>\n",
       "<table border=\"1\" class=\"dataframe\">\n",
       "  <thead>\n",
       "    <tr style=\"text-align: right;\">\n",
       "      <th></th>\n",
       "      <th>Unnamed: 0</th>\n",
       "      <th>movie_names</th>\n",
       "      <th>release_year</th>\n",
       "      <th>movie_runtime</th>\n",
       "      <th>movie_genre</th>\n",
       "      <th>movie_rating</th>\n",
       "      <th>movie_ranking</th>\n",
       "      <th>Movie_Director</th>\n",
       "      <th>Movie_Stars</th>\n",
       "      <th>metascore</th>\n",
       "      <th>votes</th>\n",
       "      <th>Gross</th>\n",
       "    </tr>\n",
       "  </thead>\n",
       "  <tbody>\n",
       "    <tr>\n",
       "      <th>0</th>\n",
       "      <td>0</td>\n",
       "      <td>Elvis</td>\n",
       "      <td>2022</td>\n",
       "      <td>159 min</td>\n",
       "      <td>Biography, Drama, Music</td>\n",
       "      <td>7.8</td>\n",
       "      <td>1.0</td>\n",
       "      <td>Baz Luhrmann</td>\n",
       "      <td>Tom Hanks,  Austin Butler,  Olivia DeJonge,  H...</td>\n",
       "      <td>64.0</td>\n",
       "      <td>32,025</td>\n",
       "      <td>NaN</td>\n",
       "    </tr>\n",
       "    <tr>\n",
       "      <th>1</th>\n",
       "      <td>1</td>\n",
       "      <td>Top Gun: Maverick</td>\n",
       "      <td>2022</td>\n",
       "      <td>130 min</td>\n",
       "      <td>Action, Drama</td>\n",
       "      <td>8.6</td>\n",
       "      <td>2.0</td>\n",
       "      <td>Joseph Kosinski</td>\n",
       "      <td>Tom Cruise,  Jennifer Connelly,  Miles Teller,...</td>\n",
       "      <td>78.0</td>\n",
       "      <td>219,554</td>\n",
       "      <td>NaN</td>\n",
       "    </tr>\n",
       "    <tr>\n",
       "      <th>2</th>\n",
       "      <td>2</td>\n",
       "      <td>Everything Everywhere All at Once</td>\n",
       "      <td>2022</td>\n",
       "      <td>139 min</td>\n",
       "      <td>Action, Adventure, Comedy</td>\n",
       "      <td>8.2</td>\n",
       "      <td>3.0</td>\n",
       "      <td>Dan Kwan,  Daniel Scheinert</td>\n",
       "      <td>Michelle Yeoh,  Stephanie Hsu,  Ke Huy Quan,  ...</td>\n",
       "      <td>81.0</td>\n",
       "      <td>140,234</td>\n",
       "      <td>NaN</td>\n",
       "    </tr>\n",
       "  </tbody>\n",
       "</table>\n",
       "</div>"
      ],
      "text/plain": [
       "   Unnamed: 0                        movie_names release_year movie_runtime  \\\n",
       "0           0                              Elvis         2022       159 min   \n",
       "1           1                  Top Gun: Maverick         2022       130 min   \n",
       "2           2  Everything Everywhere All at Once         2022       139 min   \n",
       "\n",
       "                 movie_genre  movie_rating  movie_ranking  \\\n",
       "0    Biography, Drama, Music           7.8            1.0   \n",
       "1              Action, Drama           8.6            2.0   \n",
       "2  Action, Adventure, Comedy           8.2            3.0   \n",
       "\n",
       "                Movie_Director  \\\n",
       "0                 Baz Luhrmann   \n",
       "1              Joseph Kosinski   \n",
       "2  Dan Kwan,  Daniel Scheinert   \n",
       "\n",
       "                                         Movie_Stars  metascore    votes  \\\n",
       "0  Tom Hanks,  Austin Butler,  Olivia DeJonge,  H...       64.0   32,025   \n",
       "1  Tom Cruise,  Jennifer Connelly,  Miles Teller,...       78.0  219,554   \n",
       "2  Michelle Yeoh,  Stephanie Hsu,  Ke Huy Quan,  ...       81.0  140,234   \n",
       "\n",
       "   Gross  \n",
       "0    NaN  \n",
       "1    NaN  \n",
       "2    NaN  "
      ]
     },
     "execution_count": 3,
     "metadata": {},
     "output_type": "execute_result"
    }
   ],
   "source": [
    "import numpy as np\n",
    "import pandas as pd\n",
    "import seaborn as sns\n",
    "Imdb = pd.read_csv(r'C:\\Datascience\\Imdb.csv')\n",
    "Imdb.head(3)"
   ]
  },
  {
   "cell_type": "code",
   "execution_count": 4,
   "metadata": {
    "ExecuteTime": {
     "end_time": "2022-07-09T12:34:21.056865Z",
     "start_time": "2022-07-09T12:34:21.023384Z"
    }
   },
   "outputs": [
    {
     "name": "stdout",
     "output_type": "stream",
     "text": [
      "<class 'pandas.core.frame.DataFrame'>\n",
      "RangeIndex: 650 entries, 0 to 649\n",
      "Data columns (total 12 columns):\n",
      " #   Column          Non-Null Count  Dtype  \n",
      "---  ------          --------------  -----  \n",
      " 0   Unnamed: 0      650 non-null    int64  \n",
      " 1   movie_names     650 non-null    object \n",
      " 2   release_year    650 non-null    object \n",
      " 3   movie_runtime   650 non-null    object \n",
      " 4   movie_genre     650 non-null    object \n",
      " 5   movie_rating    650 non-null    float64\n",
      " 6   movie_ranking   650 non-null    float64\n",
      " 7   Movie_Director  650 non-null    object \n",
      " 8   Movie_Stars     650 non-null    object \n",
      " 9   metascore       622 non-null    float64\n",
      " 10  votes           650 non-null    object \n",
      " 11  Gross           588 non-null    float64\n",
      "dtypes: float64(4), int64(1), object(7)\n",
      "memory usage: 61.1+ KB\n"
     ]
    }
   ],
   "source": [
    "Imdb.info()"
   ]
  },
  {
   "cell_type": "code",
   "execution_count": null,
   "metadata": {},
   "outputs": [],
   "source": []
  },
  {
   "cell_type": "code",
   "execution_count": 5,
   "metadata": {
    "ExecuteTime": {
     "end_time": "2022-07-09T12:34:21.078495Z",
     "start_time": "2022-07-09T12:34:21.062309Z"
    }
   },
   "outputs": [
    {
     "data": {
      "text/plain": [
       "(650, 12)"
      ]
     },
     "execution_count": 5,
     "metadata": {},
     "output_type": "execute_result"
    }
   ],
   "source": [
    "Imdb.shape"
   ]
  },
  {
   "cell_type": "code",
   "execution_count": 6,
   "metadata": {
    "ExecuteTime": {
     "end_time": "2022-07-09T12:34:21.104606Z",
     "start_time": "2022-07-09T12:34:21.083653Z"
    }
   },
   "outputs": [
    {
     "data": {
      "text/plain": [
       "'159'"
      ]
     },
     "execution_count": 6,
     "metadata": {},
     "output_type": "execute_result"
    }
   ],
   "source": [
    "# cleaning movie_runtime column \n",
    "\n",
    "import re\n",
    "a = re.findall(r'(\\d+)',Imdb.movie_runtime[0])\n",
    "a[0]"
   ]
  },
  {
   "cell_type": "code",
   "execution_count": 7,
   "metadata": {
    "ExecuteTime": {
     "end_time": "2022-07-09T12:34:21.124064Z",
     "start_time": "2022-07-09T12:34:21.109201Z"
    }
   },
   "outputs": [],
   "source": [
    "#Imdb.movie_runtime = Imdb.movie_runtime.apply(lambda i: re.findall(r'(\\d+)',i))\n",
    "\n",
    "\n",
    "Imdb['movie_runtime'] =Imdb.movie_runtime.apply(lambda i: re.findall(r'(\\d+)',i)[0])"
   ]
  },
  {
   "cell_type": "code",
   "execution_count": 8,
   "metadata": {
    "ExecuteTime": {
     "end_time": "2022-07-09T12:34:21.149356Z",
     "start_time": "2022-07-09T12:34:21.129979Z"
    }
   },
   "outputs": [],
   "source": [
    "Imdb['movie_ranking']=Imdb['movie_ranking'].astype(int)"
   ]
  },
  {
   "cell_type": "code",
   "execution_count": 9,
   "metadata": {
    "ExecuteTime": {
     "end_time": "2022-07-09T12:34:21.202802Z",
     "start_time": "2022-07-09T12:34:21.154521Z"
    }
   },
   "outputs": [
    {
     "data": {
      "text/html": [
       "<div>\n",
       "<style scoped>\n",
       "    .dataframe tbody tr th:only-of-type {\n",
       "        vertical-align: middle;\n",
       "    }\n",
       "\n",
       "    .dataframe tbody tr th {\n",
       "        vertical-align: top;\n",
       "    }\n",
       "\n",
       "    .dataframe thead th {\n",
       "        text-align: right;\n",
       "    }\n",
       "</style>\n",
       "<table border=\"1\" class=\"dataframe\">\n",
       "  <thead>\n",
       "    <tr style=\"text-align: right;\">\n",
       "      <th></th>\n",
       "      <th>Unnamed: 0</th>\n",
       "      <th>movie_names</th>\n",
       "      <th>release_year</th>\n",
       "      <th>movie_runtime</th>\n",
       "      <th>movie_genre</th>\n",
       "      <th>movie_rating</th>\n",
       "      <th>movie_ranking</th>\n",
       "      <th>Movie_Director</th>\n",
       "      <th>Movie_Stars</th>\n",
       "      <th>metascore</th>\n",
       "      <th>votes</th>\n",
       "      <th>Gross</th>\n",
       "    </tr>\n",
       "  </thead>\n",
       "  <tbody>\n",
       "    <tr>\n",
       "      <th>0</th>\n",
       "      <td>0</td>\n",
       "      <td>Elvis</td>\n",
       "      <td>2022</td>\n",
       "      <td>159</td>\n",
       "      <td>Biography, Drama, Music</td>\n",
       "      <td>7.8</td>\n",
       "      <td>1</td>\n",
       "      <td>Baz Luhrmann</td>\n",
       "      <td>Tom Hanks,  Austin Butler,  Olivia DeJonge,  H...</td>\n",
       "      <td>64.0</td>\n",
       "      <td>32,025</td>\n",
       "      <td>NaN</td>\n",
       "    </tr>\n",
       "    <tr>\n",
       "      <th>1</th>\n",
       "      <td>1</td>\n",
       "      <td>Top Gun: Maverick</td>\n",
       "      <td>2022</td>\n",
       "      <td>130</td>\n",
       "      <td>Action, Drama</td>\n",
       "      <td>8.6</td>\n",
       "      <td>2</td>\n",
       "      <td>Joseph Kosinski</td>\n",
       "      <td>Tom Cruise,  Jennifer Connelly,  Miles Teller,...</td>\n",
       "      <td>78.0</td>\n",
       "      <td>219,554</td>\n",
       "      <td>NaN</td>\n",
       "    </tr>\n",
       "    <tr>\n",
       "      <th>2</th>\n",
       "      <td>2</td>\n",
       "      <td>Everything Everywhere All at Once</td>\n",
       "      <td>2022</td>\n",
       "      <td>139</td>\n",
       "      <td>Action, Adventure, Comedy</td>\n",
       "      <td>8.2</td>\n",
       "      <td>3</td>\n",
       "      <td>Dan Kwan,  Daniel Scheinert</td>\n",
       "      <td>Michelle Yeoh,  Stephanie Hsu,  Ke Huy Quan,  ...</td>\n",
       "      <td>81.0</td>\n",
       "      <td>140,234</td>\n",
       "      <td>NaN</td>\n",
       "    </tr>\n",
       "  </tbody>\n",
       "</table>\n",
       "</div>"
      ],
      "text/plain": [
       "   Unnamed: 0                        movie_names release_year movie_runtime  \\\n",
       "0           0                              Elvis         2022           159   \n",
       "1           1                  Top Gun: Maverick         2022           130   \n",
       "2           2  Everything Everywhere All at Once         2022           139   \n",
       "\n",
       "                 movie_genre  movie_rating  movie_ranking  \\\n",
       "0    Biography, Drama, Music           7.8              1   \n",
       "1              Action, Drama           8.6              2   \n",
       "2  Action, Adventure, Comedy           8.2              3   \n",
       "\n",
       "                Movie_Director  \\\n",
       "0                 Baz Luhrmann   \n",
       "1              Joseph Kosinski   \n",
       "2  Dan Kwan,  Daniel Scheinert   \n",
       "\n",
       "                                         Movie_Stars  metascore    votes  \\\n",
       "0  Tom Hanks,  Austin Butler,  Olivia DeJonge,  H...       64.0   32,025   \n",
       "1  Tom Cruise,  Jennifer Connelly,  Miles Teller,...       78.0  219,554   \n",
       "2  Michelle Yeoh,  Stephanie Hsu,  Ke Huy Quan,  ...       81.0  140,234   \n",
       "\n",
       "   Gross  \n",
       "0    NaN  \n",
       "1    NaN  \n",
       "2    NaN  "
      ]
     },
     "execution_count": 9,
     "metadata": {},
     "output_type": "execute_result"
    }
   ],
   "source": [
    "Imdb.head(3)"
   ]
  },
  {
   "cell_type": "code",
   "execution_count": 10,
   "metadata": {
    "ExecuteTime": {
     "end_time": "2022-07-09T12:34:21.225890Z",
     "start_time": "2022-07-09T12:34:21.207020Z"
    }
   },
   "outputs": [
    {
     "data": {
      "text/plain": [
       "'32,025'"
      ]
     },
     "execution_count": 10,
     "metadata": {},
     "output_type": "execute_result"
    }
   ],
   "source": [
    "Imdb.votes[0]"
   ]
  },
  {
   "cell_type": "code",
   "execution_count": 11,
   "metadata": {
    "ExecuteTime": {
     "end_time": "2022-07-09T12:34:21.258829Z",
     "start_time": "2022-07-09T12:34:21.233988Z"
    }
   },
   "outputs": [
    {
     "data": {
      "text/plain": [
       "0        32025\n",
       "1       219554\n",
       "2       140234\n",
       "3       535289\n",
       "4      1802882\n",
       "        ...   \n",
       "645      27590\n",
       "646      81485\n",
       "647     185221\n",
       "648     117761\n",
       "649      84975\n",
       "Name: votes, Length: 650, dtype: int32"
      ]
     },
     "execution_count": 11,
     "metadata": {},
     "output_type": "execute_result"
    }
   ],
   "source": [
    "# replacing comma from votes and converting data type into int\n",
    "\n",
    "Imdb.votes = Imdb.votes.str.replace(',','')\n",
    "Imdb.votes = Imdb.votes.astype(int)\n",
    "Imdb.votes"
   ]
  },
  {
   "cell_type": "markdown",
   "metadata": {},
   "source": [
    "## 1. Checking for Duplicate rows"
   ]
  },
  {
   "cell_type": "code",
   "execution_count": 12,
   "metadata": {
    "ExecuteTime": {
     "end_time": "2022-07-09T12:34:21.290261Z",
     "start_time": "2022-07-09T12:34:21.263952Z"
    }
   },
   "outputs": [
    {
     "name": "stdout",
     "output_type": "stream",
     "text": [
      "Are there any duplicate row in Imdb data ?  False\n"
     ]
    }
   ],
   "source": [
    "dup_data = Imdb.duplicated().any() \n",
    "print('Are there any duplicate row in Imdb data ? ',dup_data)"
   ]
  },
  {
   "cell_type": "code",
   "execution_count": 13,
   "metadata": {
    "ExecuteTime": {
     "end_time": "2022-07-09T12:34:21.325680Z",
     "start_time": "2022-07-09T12:34:21.293254Z"
    }
   },
   "outputs": [
    {
     "data": {
      "text/html": [
       "<div>\n",
       "<style scoped>\n",
       "    .dataframe tbody tr th:only-of-type {\n",
       "        vertical-align: middle;\n",
       "    }\n",
       "\n",
       "    .dataframe tbody tr th {\n",
       "        vertical-align: top;\n",
       "    }\n",
       "\n",
       "    .dataframe thead th {\n",
       "        text-align: right;\n",
       "    }\n",
       "</style>\n",
       "<table border=\"1\" class=\"dataframe\">\n",
       "  <thead>\n",
       "    <tr style=\"text-align: right;\">\n",
       "      <th></th>\n",
       "      <th>Unnamed: 0</th>\n",
       "      <th>movie_names</th>\n",
       "      <th>release_year</th>\n",
       "      <th>movie_runtime</th>\n",
       "      <th>movie_genre</th>\n",
       "      <th>movie_rating</th>\n",
       "      <th>movie_ranking</th>\n",
       "      <th>Movie_Director</th>\n",
       "      <th>Movie_Stars</th>\n",
       "      <th>metascore</th>\n",
       "      <th>votes</th>\n",
       "      <th>Gross</th>\n",
       "    </tr>\n",
       "  </thead>\n",
       "  <tbody>\n",
       "  </tbody>\n",
       "</table>\n",
       "</div>"
      ],
      "text/plain": [
       "Empty DataFrame\n",
       "Columns: [Unnamed: 0, movie_names, release_year, movie_runtime, movie_genre, movie_rating, movie_ranking, Movie_Director, Movie_Stars, metascore, votes, Gross]\n",
       "Index: []"
      ]
     },
     "execution_count": 13,
     "metadata": {},
     "output_type": "execute_result"
    }
   ],
   "source": [
    "Imdb[Imdb.duplicated()]"
   ]
  },
  {
   "cell_type": "markdown",
   "metadata": {},
   "source": [
    "## 2. Identify Corrupted Data"
   ]
  },
  {
   "cell_type": "code",
   "execution_count": 14,
   "metadata": {
    "ExecuteTime": {
     "end_time": "2022-07-09T12:34:21.339496Z",
     "start_time": "2022-07-09T12:34:21.328770Z"
    }
   },
   "outputs": [
    {
     "data": {
      "text/plain": [
       "array(['2022', '1972', '2021', '2019', '1993', '1994', '1977', '2013',\n",
       "       '2017', '2008', '1976', '2010', '1997', '2014', '2005', '1985',\n",
       "       '1974', '2003', '2001', '1990', '2000', '1982', '1995', '2018',\n",
       "       '2016', '1999', '1983', '2009', '2006', '1987', 'I) (', '2012',\n",
       "       '1980', '1975', '1979', '2015', '1998', '1991', '2004', '1986',\n",
       "       '2007', '1984', '1942', '1957', '1992', '1981', '1971', '1965',\n",
       "       '2011', '1966', '1973', '1964', '1959', '2020', '1996', '2002',\n",
       "       '1988', '1968', 'II)', '1989', '1960', '1939', '1978', '1955',\n",
       "       '1969', '1946', '1954', '1962', '1967', '1936', '1941', '1961',\n",
       "       '1958', '1963', '1952', '1951', '1956', '1940', '1931', '1950',\n",
       "       '1927', '1937', '1944', 'III)', '1922', '1970', '1953', '1920',\n",
       "       '1934', '1933'], dtype=object)"
      ]
     },
     "execution_count": 14,
     "metadata": {},
     "output_type": "execute_result"
    }
   ],
   "source": [
    "Imdb.release_year.unique()"
   ]
  },
  {
   "cell_type": "code",
   "execution_count": 15,
   "metadata": {
    "ExecuteTime": {
     "end_time": "2022-07-09T12:34:21.354890Z",
     "start_time": "2022-07-09T12:34:21.342487Z"
    }
   },
   "outputs": [
    {
     "data": {
      "text/plain": [
       "2014    23\n",
       "I) (    22\n",
       "2019    18\n",
       "2006    18\n",
       "2009    18\n",
       "        ..\n",
       "1927     1\n",
       "1931     1\n",
       "1942     1\n",
       "1936     1\n",
       "1933     1\n",
       "Name: release_year, Length: 90, dtype: int64"
      ]
     },
     "execution_count": 15,
     "metadata": {},
     "output_type": "execute_result"
    }
   ],
   "source": [
    "Imdb.release_year.value_counts()"
   ]
  },
  {
   "cell_type": "code",
   "execution_count": 16,
   "metadata": {
    "ExecuteTime": {
     "end_time": "2022-07-09T12:34:21.364890Z",
     "start_time": "2022-07-09T12:34:21.357005Z"
    }
   },
   "outputs": [],
   "source": [
    "# convert the corrupted data to missing values\n",
    "\n",
    "Imdb['release_year'] = Imdb.release_year.replace({\"I) (\":np.NaN,\"II)\":np.NaN,'III)':np.NaN})"
   ]
  },
  {
   "cell_type": "markdown",
   "metadata": {},
   "source": [
    "### 2. Handling missing values"
   ]
  },
  {
   "cell_type": "code",
   "execution_count": 17,
   "metadata": {
    "ExecuteTime": {
     "end_time": "2022-07-09T12:34:21.380238Z",
     "start_time": "2022-07-09T12:34:21.367909Z"
    }
   },
   "outputs": [
    {
     "data": {
      "text/plain": [
       "Unnamed: 0         0\n",
       "movie_names        0\n",
       "release_year      26\n",
       "movie_runtime      0\n",
       "movie_genre        0\n",
       "movie_rating       0\n",
       "movie_ranking      0\n",
       "Movie_Director     0\n",
       "Movie_Stars        0\n",
       "metascore         28\n",
       "votes              0\n",
       "Gross             62\n",
       "dtype: int64"
      ]
     },
     "execution_count": 17,
     "metadata": {},
     "output_type": "execute_result"
    }
   ],
   "source": [
    "Imdb.isnull().sum()"
   ]
  },
  {
   "cell_type": "code",
   "execution_count": 18,
   "metadata": {
    "ExecuteTime": {
     "end_time": "2022-07-09T12:34:21.433191Z",
     "start_time": "2022-07-09T12:34:21.385533Z"
    }
   },
   "outputs": [
    {
     "data": {
      "text/html": [
       "<div>\n",
       "<style scoped>\n",
       "    .dataframe tbody tr th:only-of-type {\n",
       "        vertical-align: middle;\n",
       "    }\n",
       "\n",
       "    .dataframe tbody tr th {\n",
       "        vertical-align: top;\n",
       "    }\n",
       "\n",
       "    .dataframe thead th {\n",
       "        text-align: right;\n",
       "    }\n",
       "</style>\n",
       "<table border=\"1\" class=\"dataframe\">\n",
       "  <thead>\n",
       "    <tr style=\"text-align: right;\">\n",
       "      <th></th>\n",
       "      <th>Unnamed: 0</th>\n",
       "      <th>movie_names</th>\n",
       "      <th>release_year</th>\n",
       "      <th>movie_runtime</th>\n",
       "      <th>movie_genre</th>\n",
       "      <th>movie_rating</th>\n",
       "      <th>movie_ranking</th>\n",
       "      <th>Movie_Director</th>\n",
       "      <th>Movie_Stars</th>\n",
       "      <th>metascore</th>\n",
       "      <th>votes</th>\n",
       "      <th>Gross</th>\n",
       "    </tr>\n",
       "  </thead>\n",
       "  <tbody>\n",
       "    <tr>\n",
       "      <th>0</th>\n",
       "      <td>0</td>\n",
       "      <td>Elvis</td>\n",
       "      <td>2022</td>\n",
       "      <td>159</td>\n",
       "      <td>Biography, Drama, Music</td>\n",
       "      <td>7.8</td>\n",
       "      <td>1</td>\n",
       "      <td>Baz Luhrmann</td>\n",
       "      <td>Tom Hanks,  Austin Butler,  Olivia DeJonge,  H...</td>\n",
       "      <td>64.0</td>\n",
       "      <td>32025</td>\n",
       "      <td>NaN</td>\n",
       "    </tr>\n",
       "    <tr>\n",
       "      <th>1</th>\n",
       "      <td>1</td>\n",
       "      <td>Top Gun: Maverick</td>\n",
       "      <td>2022</td>\n",
       "      <td>130</td>\n",
       "      <td>Action, Drama</td>\n",
       "      <td>8.6</td>\n",
       "      <td>2</td>\n",
       "      <td>Joseph Kosinski</td>\n",
       "      <td>Tom Cruise,  Jennifer Connelly,  Miles Teller,...</td>\n",
       "      <td>78.0</td>\n",
       "      <td>219554</td>\n",
       "      <td>NaN</td>\n",
       "    </tr>\n",
       "    <tr>\n",
       "      <th>2</th>\n",
       "      <td>2</td>\n",
       "      <td>Everything Everywhere All at Once</td>\n",
       "      <td>2022</td>\n",
       "      <td>139</td>\n",
       "      <td>Action, Adventure, Comedy</td>\n",
       "      <td>8.2</td>\n",
       "      <td>3</td>\n",
       "      <td>Dan Kwan,  Daniel Scheinert</td>\n",
       "      <td>Michelle Yeoh,  Stephanie Hsu,  Ke Huy Quan,  ...</td>\n",
       "      <td>81.0</td>\n",
       "      <td>140234</td>\n",
       "      <td>NaN</td>\n",
       "    </tr>\n",
       "    <tr>\n",
       "      <th>3</th>\n",
       "      <td>3</td>\n",
       "      <td>The Batman</td>\n",
       "      <td>2022</td>\n",
       "      <td>176</td>\n",
       "      <td>Action, Crime, Drama</td>\n",
       "      <td>7.9</td>\n",
       "      <td>4</td>\n",
       "      <td>Matt Reeves</td>\n",
       "      <td>Robert Pattinson,  Zoë Kravitz,  Jeffrey Wrigh...</td>\n",
       "      <td>72.0</td>\n",
       "      <td>535289</td>\n",
       "      <td>NaN</td>\n",
       "    </tr>\n",
       "    <tr>\n",
       "      <th>7</th>\n",
       "      <td>7</td>\n",
       "      <td>RRR (Rise Roar Revolt)</td>\n",
       "      <td>2022</td>\n",
       "      <td>187</td>\n",
       "      <td>Action, Drama</td>\n",
       "      <td>8.0</td>\n",
       "      <td>8</td>\n",
       "      <td>S.S. Rajamouli</td>\n",
       "      <td>N.T. Rama Rao Jr.,  Ram Charan,  Ajay Devgn,  ...</td>\n",
       "      <td>83.0</td>\n",
       "      <td>82853</td>\n",
       "      <td>NaN</td>\n",
       "    </tr>\n",
       "    <tr>\n",
       "      <th>...</th>\n",
       "      <td>...</td>\n",
       "      <td>...</td>\n",
       "      <td>...</td>\n",
       "      <td>...</td>\n",
       "      <td>...</td>\n",
       "      <td>...</td>\n",
       "      <td>...</td>\n",
       "      <td>...</td>\n",
       "      <td>...</td>\n",
       "      <td>...</td>\n",
       "      <td>...</td>\n",
       "      <td>...</td>\n",
       "    </tr>\n",
       "    <tr>\n",
       "      <th>622</th>\n",
       "      <td>622</td>\n",
       "      <td>Das Cabinet des Dr. Caligari</td>\n",
       "      <td>1920</td>\n",
       "      <td>76</td>\n",
       "      <td>Horror, Mystery, Thriller</td>\n",
       "      <td>8.0</td>\n",
       "      <td>623</td>\n",
       "      <td>Robert Wiene</td>\n",
       "      <td>Werner Krauss,  Conrad Veidt,  Friedrich Feher...</td>\n",
       "      <td>NaN</td>\n",
       "      <td>63038</td>\n",
       "      <td>NaN</td>\n",
       "    </tr>\n",
       "    <tr>\n",
       "      <th>623</th>\n",
       "      <td>623</td>\n",
       "      <td>Klaus</td>\n",
       "      <td>2019</td>\n",
       "      <td>96</td>\n",
       "      <td>Animation, Adventure, Comedy</td>\n",
       "      <td>8.1</td>\n",
       "      <td>624</td>\n",
       "      <td>Sergio Pablos,  Carlos Martínez López</td>\n",
       "      <td>Jason Schwartzman,  J.K. Simmons,  Rashida Jon...</td>\n",
       "      <td>65.0</td>\n",
       "      <td>144003</td>\n",
       "      <td>NaN</td>\n",
       "    </tr>\n",
       "    <tr>\n",
       "      <th>629</th>\n",
       "      <td>629</td>\n",
       "      <td>Shin seiki Evangelion Gekijô-ban: Air/Magokoro...</td>\n",
       "      <td>1997</td>\n",
       "      <td>87</td>\n",
       "      <td>Animation, Action, Drama</td>\n",
       "      <td>8.0</td>\n",
       "      <td>630</td>\n",
       "      <td>Hideaki Anno,  Kazuya Tsurumaki</td>\n",
       "      <td>Megumi Ogata,  Megumi Hayashibara,  Yûko Miyam...</td>\n",
       "      <td>NaN</td>\n",
       "      <td>52975</td>\n",
       "      <td>NaN</td>\n",
       "    </tr>\n",
       "    <tr>\n",
       "      <th>635</th>\n",
       "      <td>635</td>\n",
       "      <td>Togo</td>\n",
       "      <td>2019</td>\n",
       "      <td>113</td>\n",
       "      <td>Adventure, Biography, Drama</td>\n",
       "      <td>7.9</td>\n",
       "      <td>636</td>\n",
       "      <td>Ericson Core</td>\n",
       "      <td>Willem Dafoe,  Julianne Nicholson,  Christophe...</td>\n",
       "      <td>69.0</td>\n",
       "      <td>47723</td>\n",
       "      <td>NaN</td>\n",
       "    </tr>\n",
       "    <tr>\n",
       "      <th>641</th>\n",
       "      <td>641</td>\n",
       "      <td>Badlands</td>\n",
       "      <td>1973</td>\n",
       "      <td>94</td>\n",
       "      <td>Action, Crime, Drama</td>\n",
       "      <td>7.7</td>\n",
       "      <td>642</td>\n",
       "      <td>Terrence Malick</td>\n",
       "      <td>Martin Sheen,  Sissy Spacek,  Warren Oates,  R...</td>\n",
       "      <td>93.0</td>\n",
       "      <td>72449</td>\n",
       "      <td>NaN</td>\n",
       "    </tr>\n",
       "  </tbody>\n",
       "</table>\n",
       "<p>62 rows × 12 columns</p>\n",
       "</div>"
      ],
      "text/plain": [
       "     Unnamed: 0                                        movie_names  \\\n",
       "0             0                                              Elvis   \n",
       "1             1                                  Top Gun: Maverick   \n",
       "2             2                  Everything Everywhere All at Once   \n",
       "3             3                                         The Batman   \n",
       "7             7                             RRR (Rise Roar Revolt)   \n",
       "..          ...                                                ...   \n",
       "622         622                       Das Cabinet des Dr. Caligari   \n",
       "623         623                                              Klaus   \n",
       "629         629  Shin seiki Evangelion Gekijô-ban: Air/Magokoro...   \n",
       "635         635                                               Togo   \n",
       "641         641                                           Badlands   \n",
       "\n",
       "    release_year movie_runtime                   movie_genre  movie_rating  \\\n",
       "0           2022           159       Biography, Drama, Music           7.8   \n",
       "1           2022           130                 Action, Drama           8.6   \n",
       "2           2022           139     Action, Adventure, Comedy           8.2   \n",
       "3           2022           176          Action, Crime, Drama           7.9   \n",
       "7           2022           187                 Action, Drama           8.0   \n",
       "..           ...           ...                           ...           ...   \n",
       "622         1920            76     Horror, Mystery, Thriller           8.0   \n",
       "623         2019            96  Animation, Adventure, Comedy           8.1   \n",
       "629         1997            87      Animation, Action, Drama           8.0   \n",
       "635         2019           113   Adventure, Biography, Drama           7.9   \n",
       "641         1973            94          Action, Crime, Drama           7.7   \n",
       "\n",
       "     movie_ranking                         Movie_Director  \\\n",
       "0                1                           Baz Luhrmann   \n",
       "1                2                        Joseph Kosinski   \n",
       "2                3            Dan Kwan,  Daniel Scheinert   \n",
       "3                4                            Matt Reeves   \n",
       "7                8                         S.S. Rajamouli   \n",
       "..             ...                                    ...   \n",
       "622            623                           Robert Wiene   \n",
       "623            624  Sergio Pablos,  Carlos Martínez López   \n",
       "629            630        Hideaki Anno,  Kazuya Tsurumaki   \n",
       "635            636                           Ericson Core   \n",
       "641            642                        Terrence Malick   \n",
       "\n",
       "                                           Movie_Stars  metascore   votes  \\\n",
       "0    Tom Hanks,  Austin Butler,  Olivia DeJonge,  H...       64.0   32025   \n",
       "1    Tom Cruise,  Jennifer Connelly,  Miles Teller,...       78.0  219554   \n",
       "2    Michelle Yeoh,  Stephanie Hsu,  Ke Huy Quan,  ...       81.0  140234   \n",
       "3    Robert Pattinson,  Zoë Kravitz,  Jeffrey Wrigh...       72.0  535289   \n",
       "7    N.T. Rama Rao Jr.,  Ram Charan,  Ajay Devgn,  ...       83.0   82853   \n",
       "..                                                 ...        ...     ...   \n",
       "622  Werner Krauss,  Conrad Veidt,  Friedrich Feher...        NaN   63038   \n",
       "623  Jason Schwartzman,  J.K. Simmons,  Rashida Jon...       65.0  144003   \n",
       "629  Megumi Ogata,  Megumi Hayashibara,  Yûko Miyam...        NaN   52975   \n",
       "635  Willem Dafoe,  Julianne Nicholson,  Christophe...       69.0   47723   \n",
       "641  Martin Sheen,  Sissy Spacek,  Warren Oates,  R...       93.0   72449   \n",
       "\n",
       "     Gross  \n",
       "0      NaN  \n",
       "1      NaN  \n",
       "2      NaN  \n",
       "3      NaN  \n",
       "7      NaN  \n",
       "..     ...  \n",
       "622    NaN  \n",
       "623    NaN  \n",
       "629    NaN  \n",
       "635    NaN  \n",
       "641    NaN  \n",
       "\n",
       "[62 rows x 12 columns]"
      ]
     },
     "execution_count": 18,
     "metadata": {},
     "output_type": "execute_result"
    }
   ],
   "source": [
    "# look at the missing records once\n",
    "\n",
    "Imdb[Imdb.release_year.isnull()]\n",
    "Imdb[Imdb.metascore.isnull()]\n",
    "Imdb[Imdb.Gross.isnull()]"
   ]
  },
  {
   "cell_type": "code",
   "execution_count": 19,
   "metadata": {
    "ExecuteTime": {
     "end_time": "2022-07-09T12:34:21.476575Z",
     "start_time": "2022-07-09T12:34:21.439058Z"
    }
   },
   "outputs": [
    {
     "data": {
      "text/html": [
       "<div>\n",
       "<style scoped>\n",
       "    .dataframe tbody tr th:only-of-type {\n",
       "        vertical-align: middle;\n",
       "    }\n",
       "\n",
       "    .dataframe tbody tr th {\n",
       "        vertical-align: top;\n",
       "    }\n",
       "\n",
       "    .dataframe thead th {\n",
       "        text-align: right;\n",
       "    }\n",
       "</style>\n",
       "<table border=\"1\" class=\"dataframe\">\n",
       "  <thead>\n",
       "    <tr style=\"text-align: right;\">\n",
       "      <th></th>\n",
       "      <th>movie_names</th>\n",
       "      <th>release_year</th>\n",
       "      <th>movie_runtime</th>\n",
       "      <th>movie_genre</th>\n",
       "      <th>movie_rating</th>\n",
       "      <th>movie_ranking</th>\n",
       "      <th>Movie_Director</th>\n",
       "      <th>Movie_Stars</th>\n",
       "      <th>metascore</th>\n",
       "      <th>votes</th>\n",
       "      <th>Gross</th>\n",
       "    </tr>\n",
       "  </thead>\n",
       "  <tbody>\n",
       "    <tr>\n",
       "      <th>0</th>\n",
       "      <td>Elvis</td>\n",
       "      <td>2022</td>\n",
       "      <td>159</td>\n",
       "      <td>Biography, Drama, Music</td>\n",
       "      <td>7.8</td>\n",
       "      <td>1</td>\n",
       "      <td>Baz Luhrmann</td>\n",
       "      <td>Tom Hanks,  Austin Butler,  Olivia DeJonge,  H...</td>\n",
       "      <td>64.0</td>\n",
       "      <td>32025</td>\n",
       "      <td>NaN</td>\n",
       "    </tr>\n",
       "    <tr>\n",
       "      <th>1</th>\n",
       "      <td>Top Gun: Maverick</td>\n",
       "      <td>2022</td>\n",
       "      <td>130</td>\n",
       "      <td>Action, Drama</td>\n",
       "      <td>8.6</td>\n",
       "      <td>2</td>\n",
       "      <td>Joseph Kosinski</td>\n",
       "      <td>Tom Cruise,  Jennifer Connelly,  Miles Teller,...</td>\n",
       "      <td>78.0</td>\n",
       "      <td>219554</td>\n",
       "      <td>NaN</td>\n",
       "    </tr>\n",
       "    <tr>\n",
       "      <th>2</th>\n",
       "      <td>Everything Everywhere All at Once</td>\n",
       "      <td>2022</td>\n",
       "      <td>139</td>\n",
       "      <td>Action, Adventure, Comedy</td>\n",
       "      <td>8.2</td>\n",
       "      <td>3</td>\n",
       "      <td>Dan Kwan,  Daniel Scheinert</td>\n",
       "      <td>Michelle Yeoh,  Stephanie Hsu,  Ke Huy Quan,  ...</td>\n",
       "      <td>81.0</td>\n",
       "      <td>140234</td>\n",
       "      <td>NaN</td>\n",
       "    </tr>\n",
       "    <tr>\n",
       "      <th>3</th>\n",
       "      <td>The Batman</td>\n",
       "      <td>2022</td>\n",
       "      <td>176</td>\n",
       "      <td>Action, Crime, Drama</td>\n",
       "      <td>7.9</td>\n",
       "      <td>4</td>\n",
       "      <td>Matt Reeves</td>\n",
       "      <td>Robert Pattinson,  Zoë Kravitz,  Jeffrey Wrigh...</td>\n",
       "      <td>72.0</td>\n",
       "      <td>535289</td>\n",
       "      <td>NaN</td>\n",
       "    </tr>\n",
       "    <tr>\n",
       "      <th>4</th>\n",
       "      <td>The Godfather</td>\n",
       "      <td>1972</td>\n",
       "      <td>175</td>\n",
       "      <td>Crime, Drama</td>\n",
       "      <td>9.2</td>\n",
       "      <td>5</td>\n",
       "      <td>Francis Ford Coppola</td>\n",
       "      <td>Marlon Brando,  Al Pacino,  James Caan,  Diane...</td>\n",
       "      <td>100.0</td>\n",
       "      <td>1802882</td>\n",
       "      <td>134.97</td>\n",
       "    </tr>\n",
       "    <tr>\n",
       "      <th>...</th>\n",
       "      <td>...</td>\n",
       "      <td>...</td>\n",
       "      <td>...</td>\n",
       "      <td>...</td>\n",
       "      <td>...</td>\n",
       "      <td>...</td>\n",
       "      <td>...</td>\n",
       "      <td>...</td>\n",
       "      <td>...</td>\n",
       "      <td>...</td>\n",
       "      <td>...</td>\n",
       "    </tr>\n",
       "    <tr>\n",
       "      <th>645</th>\n",
       "      <td>The Caine Mutiny</td>\n",
       "      <td>1954</td>\n",
       "      <td>124</td>\n",
       "      <td>Drama, War</td>\n",
       "      <td>7.7</td>\n",
       "      <td>646</td>\n",
       "      <td>Edward Dmytryk</td>\n",
       "      <td>Humphrey Bogart,  José Ferrer,  Van Johnson,  ...</td>\n",
       "      <td>63.0</td>\n",
       "      <td>27590</td>\n",
       "      <td>21.75</td>\n",
       "    </tr>\n",
       "    <tr>\n",
       "      <th>646</th>\n",
       "      <td>The Hustler</td>\n",
       "      <td>1961</td>\n",
       "      <td>134</td>\n",
       "      <td>Drama, Sport</td>\n",
       "      <td>8.0</td>\n",
       "      <td>647</td>\n",
       "      <td>Robert Rossen</td>\n",
       "      <td>Paul Newman,  Jackie Gleason,  Piper Laurie,  ...</td>\n",
       "      <td>90.0</td>\n",
       "      <td>81485</td>\n",
       "      <td>8.28</td>\n",
       "    </tr>\n",
       "    <tr>\n",
       "      <th>647</th>\n",
       "      <td>The Last King of Scotland</td>\n",
       "      <td>2006</td>\n",
       "      <td>123</td>\n",
       "      <td>Biography, Drama, History</td>\n",
       "      <td>7.7</td>\n",
       "      <td>648</td>\n",
       "      <td>Kevin Macdonald</td>\n",
       "      <td>James McAvoy,  Forest Whitaker,  Gillian Ander...</td>\n",
       "      <td>74.0</td>\n",
       "      <td>185221</td>\n",
       "      <td>17.61</td>\n",
       "    </tr>\n",
       "    <tr>\n",
       "      <th>648</th>\n",
       "      <td>Nebraska</td>\n",
       "      <td>2013</td>\n",
       "      <td>115</td>\n",
       "      <td>Adventure, Comedy, Drama</td>\n",
       "      <td>7.7</td>\n",
       "      <td>649</td>\n",
       "      <td>Alexander Payne</td>\n",
       "      <td>Bruce Dern,  Will Forte,  June Squibb,  Bob Od...</td>\n",
       "      <td>87.0</td>\n",
       "      <td>117761</td>\n",
       "      <td>17.65</td>\n",
       "    </tr>\n",
       "    <tr>\n",
       "      <th>649</th>\n",
       "      <td>King Kong</td>\n",
       "      <td>1933</td>\n",
       "      <td>100</td>\n",
       "      <td>Adventure, Horror, Sci-Fi</td>\n",
       "      <td>7.9</td>\n",
       "      <td>650</td>\n",
       "      <td>Merian C. Cooper,  Ernest B. Schoedsack</td>\n",
       "      <td>Fay Wray,  Robert Armstrong,  Bruce Cabot,  Fr...</td>\n",
       "      <td>90.0</td>\n",
       "      <td>84975</td>\n",
       "      <td>10.00</td>\n",
       "    </tr>\n",
       "  </tbody>\n",
       "</table>\n",
       "<p>650 rows × 11 columns</p>\n",
       "</div>"
      ],
      "text/plain": [
       "                           movie_names release_year movie_runtime  \\\n",
       "0                                Elvis         2022           159   \n",
       "1                    Top Gun: Maverick         2022           130   \n",
       "2    Everything Everywhere All at Once         2022           139   \n",
       "3                           The Batman         2022           176   \n",
       "4                        The Godfather         1972           175   \n",
       "..                                 ...          ...           ...   \n",
       "645                   The Caine Mutiny         1954           124   \n",
       "646                        The Hustler         1961           134   \n",
       "647          The Last King of Scotland         2006           123   \n",
       "648                           Nebraska         2013           115   \n",
       "649                          King Kong         1933           100   \n",
       "\n",
       "                   movie_genre  movie_rating  movie_ranking  \\\n",
       "0      Biography, Drama, Music           7.8              1   \n",
       "1                Action, Drama           8.6              2   \n",
       "2    Action, Adventure, Comedy           8.2              3   \n",
       "3         Action, Crime, Drama           7.9              4   \n",
       "4                 Crime, Drama           9.2              5   \n",
       "..                         ...           ...            ...   \n",
       "645                 Drama, War           7.7            646   \n",
       "646               Drama, Sport           8.0            647   \n",
       "647  Biography, Drama, History           7.7            648   \n",
       "648   Adventure, Comedy, Drama           7.7            649   \n",
       "649  Adventure, Horror, Sci-Fi           7.9            650   \n",
       "\n",
       "                              Movie_Director  \\\n",
       "0                               Baz Luhrmann   \n",
       "1                            Joseph Kosinski   \n",
       "2                Dan Kwan,  Daniel Scheinert   \n",
       "3                                Matt Reeves   \n",
       "4                       Francis Ford Coppola   \n",
       "..                                       ...   \n",
       "645                           Edward Dmytryk   \n",
       "646                            Robert Rossen   \n",
       "647                          Kevin Macdonald   \n",
       "648                          Alexander Payne   \n",
       "649  Merian C. Cooper,  Ernest B. Schoedsack   \n",
       "\n",
       "                                           Movie_Stars  metascore    votes  \\\n",
       "0    Tom Hanks,  Austin Butler,  Olivia DeJonge,  H...       64.0    32025   \n",
       "1    Tom Cruise,  Jennifer Connelly,  Miles Teller,...       78.0   219554   \n",
       "2    Michelle Yeoh,  Stephanie Hsu,  Ke Huy Quan,  ...       81.0   140234   \n",
       "3    Robert Pattinson,  Zoë Kravitz,  Jeffrey Wrigh...       72.0   535289   \n",
       "4    Marlon Brando,  Al Pacino,  James Caan,  Diane...      100.0  1802882   \n",
       "..                                                 ...        ...      ...   \n",
       "645  Humphrey Bogart,  José Ferrer,  Van Johnson,  ...       63.0    27590   \n",
       "646  Paul Newman,  Jackie Gleason,  Piper Laurie,  ...       90.0    81485   \n",
       "647  James McAvoy,  Forest Whitaker,  Gillian Ander...       74.0   185221   \n",
       "648  Bruce Dern,  Will Forte,  June Squibb,  Bob Od...       87.0   117761   \n",
       "649  Fay Wray,  Robert Armstrong,  Bruce Cabot,  Fr...       90.0    84975   \n",
       "\n",
       "      Gross  \n",
       "0       NaN  \n",
       "1       NaN  \n",
       "2       NaN  \n",
       "3       NaN  \n",
       "4    134.97  \n",
       "..      ...  \n",
       "645   21.75  \n",
       "646    8.28  \n",
       "647   17.61  \n",
       "648   17.65  \n",
       "649   10.00  \n",
       "\n",
       "[650 rows x 11 columns]"
      ]
     },
     "execution_count": 19,
     "metadata": {},
     "output_type": "execute_result"
    }
   ],
   "source": [
    "Imdb.drop(['Unnamed: 0'],axis=1)"
   ]
  },
  {
   "cell_type": "code",
   "execution_count": 20,
   "metadata": {
    "ExecuteTime": {
     "end_time": "2022-07-09T12:34:21.526525Z",
     "start_time": "2022-07-09T12:34:21.478571Z"
    }
   },
   "outputs": [
    {
     "data": {
      "text/html": [
       "<div>\n",
       "<style scoped>\n",
       "    .dataframe tbody tr th:only-of-type {\n",
       "        vertical-align: middle;\n",
       "    }\n",
       "\n",
       "    .dataframe tbody tr th {\n",
       "        vertical-align: top;\n",
       "    }\n",
       "\n",
       "    .dataframe thead th {\n",
       "        text-align: right;\n",
       "    }\n",
       "</style>\n",
       "<table border=\"1\" class=\"dataframe\">\n",
       "  <thead>\n",
       "    <tr style=\"text-align: right;\">\n",
       "      <th></th>\n",
       "      <th>movie_names</th>\n",
       "      <th>release_year</th>\n",
       "      <th>movie_runtime</th>\n",
       "      <th>movie_genre</th>\n",
       "      <th>movie_rating</th>\n",
       "      <th>movie_ranking</th>\n",
       "      <th>Movie_Director</th>\n",
       "      <th>Movie_Stars</th>\n",
       "      <th>metascore</th>\n",
       "      <th>votes</th>\n",
       "      <th>Gross</th>\n",
       "    </tr>\n",
       "  </thead>\n",
       "  <tbody>\n",
       "    <tr>\n",
       "      <th>0</th>\n",
       "      <td>Elvis</td>\n",
       "      <td>2022</td>\n",
       "      <td>159</td>\n",
       "      <td>Biography, Drama, Music</td>\n",
       "      <td>7.8</td>\n",
       "      <td>1</td>\n",
       "      <td>Baz Luhrmann</td>\n",
       "      <td>Tom Hanks,  Austin Butler,  Olivia DeJonge,  H...</td>\n",
       "      <td>64.0</td>\n",
       "      <td>32025</td>\n",
       "      <td>NaN</td>\n",
       "    </tr>\n",
       "    <tr>\n",
       "      <th>1</th>\n",
       "      <td>Top Gun: Maverick</td>\n",
       "      <td>2022</td>\n",
       "      <td>130</td>\n",
       "      <td>Action, Drama</td>\n",
       "      <td>8.6</td>\n",
       "      <td>2</td>\n",
       "      <td>Joseph Kosinski</td>\n",
       "      <td>Tom Cruise,  Jennifer Connelly,  Miles Teller,...</td>\n",
       "      <td>78.0</td>\n",
       "      <td>219554</td>\n",
       "      <td>NaN</td>\n",
       "    </tr>\n",
       "    <tr>\n",
       "      <th>2</th>\n",
       "      <td>Everything Everywhere All at Once</td>\n",
       "      <td>2022</td>\n",
       "      <td>139</td>\n",
       "      <td>Action, Adventure, Comedy</td>\n",
       "      <td>8.2</td>\n",
       "      <td>3</td>\n",
       "      <td>Dan Kwan,  Daniel Scheinert</td>\n",
       "      <td>Michelle Yeoh,  Stephanie Hsu,  Ke Huy Quan,  ...</td>\n",
       "      <td>81.0</td>\n",
       "      <td>140234</td>\n",
       "      <td>NaN</td>\n",
       "    </tr>\n",
       "    <tr>\n",
       "      <th>3</th>\n",
       "      <td>The Batman</td>\n",
       "      <td>2022</td>\n",
       "      <td>176</td>\n",
       "      <td>Action, Crime, Drama</td>\n",
       "      <td>7.9</td>\n",
       "      <td>4</td>\n",
       "      <td>Matt Reeves</td>\n",
       "      <td>Robert Pattinson,  Zoë Kravitz,  Jeffrey Wrigh...</td>\n",
       "      <td>72.0</td>\n",
       "      <td>535289</td>\n",
       "      <td>NaN</td>\n",
       "    </tr>\n",
       "    <tr>\n",
       "      <th>4</th>\n",
       "      <td>The Godfather</td>\n",
       "      <td>1972</td>\n",
       "      <td>175</td>\n",
       "      <td>Crime, Drama</td>\n",
       "      <td>9.2</td>\n",
       "      <td>5</td>\n",
       "      <td>Francis Ford Coppola</td>\n",
       "      <td>Marlon Brando,  Al Pacino,  James Caan,  Diane...</td>\n",
       "      <td>100.0</td>\n",
       "      <td>1802882</td>\n",
       "      <td>134.97</td>\n",
       "    </tr>\n",
       "    <tr>\n",
       "      <th>...</th>\n",
       "      <td>...</td>\n",
       "      <td>...</td>\n",
       "      <td>...</td>\n",
       "      <td>...</td>\n",
       "      <td>...</td>\n",
       "      <td>...</td>\n",
       "      <td>...</td>\n",
       "      <td>...</td>\n",
       "      <td>...</td>\n",
       "      <td>...</td>\n",
       "      <td>...</td>\n",
       "    </tr>\n",
       "    <tr>\n",
       "      <th>645</th>\n",
       "      <td>The Caine Mutiny</td>\n",
       "      <td>1954</td>\n",
       "      <td>124</td>\n",
       "      <td>Drama, War</td>\n",
       "      <td>7.7</td>\n",
       "      <td>646</td>\n",
       "      <td>Edward Dmytryk</td>\n",
       "      <td>Humphrey Bogart,  José Ferrer,  Van Johnson,  ...</td>\n",
       "      <td>63.0</td>\n",
       "      <td>27590</td>\n",
       "      <td>21.75</td>\n",
       "    </tr>\n",
       "    <tr>\n",
       "      <th>646</th>\n",
       "      <td>The Hustler</td>\n",
       "      <td>1961</td>\n",
       "      <td>134</td>\n",
       "      <td>Drama, Sport</td>\n",
       "      <td>8.0</td>\n",
       "      <td>647</td>\n",
       "      <td>Robert Rossen</td>\n",
       "      <td>Paul Newman,  Jackie Gleason,  Piper Laurie,  ...</td>\n",
       "      <td>90.0</td>\n",
       "      <td>81485</td>\n",
       "      <td>8.28</td>\n",
       "    </tr>\n",
       "    <tr>\n",
       "      <th>647</th>\n",
       "      <td>The Last King of Scotland</td>\n",
       "      <td>2006</td>\n",
       "      <td>123</td>\n",
       "      <td>Biography, Drama, History</td>\n",
       "      <td>7.7</td>\n",
       "      <td>648</td>\n",
       "      <td>Kevin Macdonald</td>\n",
       "      <td>James McAvoy,  Forest Whitaker,  Gillian Ander...</td>\n",
       "      <td>74.0</td>\n",
       "      <td>185221</td>\n",
       "      <td>17.61</td>\n",
       "    </tr>\n",
       "    <tr>\n",
       "      <th>648</th>\n",
       "      <td>Nebraska</td>\n",
       "      <td>2013</td>\n",
       "      <td>115</td>\n",
       "      <td>Adventure, Comedy, Drama</td>\n",
       "      <td>7.7</td>\n",
       "      <td>649</td>\n",
       "      <td>Alexander Payne</td>\n",
       "      <td>Bruce Dern,  Will Forte,  June Squibb,  Bob Od...</td>\n",
       "      <td>87.0</td>\n",
       "      <td>117761</td>\n",
       "      <td>17.65</td>\n",
       "    </tr>\n",
       "    <tr>\n",
       "      <th>649</th>\n",
       "      <td>King Kong</td>\n",
       "      <td>1933</td>\n",
       "      <td>100</td>\n",
       "      <td>Adventure, Horror, Sci-Fi</td>\n",
       "      <td>7.9</td>\n",
       "      <td>650</td>\n",
       "      <td>Merian C. Cooper,  Ernest B. Schoedsack</td>\n",
       "      <td>Fay Wray,  Robert Armstrong,  Bruce Cabot,  Fr...</td>\n",
       "      <td>90.0</td>\n",
       "      <td>84975</td>\n",
       "      <td>10.00</td>\n",
       "    </tr>\n",
       "  </tbody>\n",
       "</table>\n",
       "<p>650 rows × 11 columns</p>\n",
       "</div>"
      ],
      "text/plain": [
       "                           movie_names release_year movie_runtime  \\\n",
       "0                                Elvis         2022           159   \n",
       "1                    Top Gun: Maverick         2022           130   \n",
       "2    Everything Everywhere All at Once         2022           139   \n",
       "3                           The Batman         2022           176   \n",
       "4                        The Godfather         1972           175   \n",
       "..                                 ...          ...           ...   \n",
       "645                   The Caine Mutiny         1954           124   \n",
       "646                        The Hustler         1961           134   \n",
       "647          The Last King of Scotland         2006           123   \n",
       "648                           Nebraska         2013           115   \n",
       "649                          King Kong         1933           100   \n",
       "\n",
       "                   movie_genre  movie_rating  movie_ranking  \\\n",
       "0      Biography, Drama, Music           7.8              1   \n",
       "1                Action, Drama           8.6              2   \n",
       "2    Action, Adventure, Comedy           8.2              3   \n",
       "3         Action, Crime, Drama           7.9              4   \n",
       "4                 Crime, Drama           9.2              5   \n",
       "..                         ...           ...            ...   \n",
       "645                 Drama, War           7.7            646   \n",
       "646               Drama, Sport           8.0            647   \n",
       "647  Biography, Drama, History           7.7            648   \n",
       "648   Adventure, Comedy, Drama           7.7            649   \n",
       "649  Adventure, Horror, Sci-Fi           7.9            650   \n",
       "\n",
       "                              Movie_Director  \\\n",
       "0                               Baz Luhrmann   \n",
       "1                            Joseph Kosinski   \n",
       "2                Dan Kwan,  Daniel Scheinert   \n",
       "3                                Matt Reeves   \n",
       "4                       Francis Ford Coppola   \n",
       "..                                       ...   \n",
       "645                           Edward Dmytryk   \n",
       "646                            Robert Rossen   \n",
       "647                          Kevin Macdonald   \n",
       "648                          Alexander Payne   \n",
       "649  Merian C. Cooper,  Ernest B. Schoedsack   \n",
       "\n",
       "                                           Movie_Stars  metascore    votes  \\\n",
       "0    Tom Hanks,  Austin Butler,  Olivia DeJonge,  H...       64.0    32025   \n",
       "1    Tom Cruise,  Jennifer Connelly,  Miles Teller,...       78.0   219554   \n",
       "2    Michelle Yeoh,  Stephanie Hsu,  Ke Huy Quan,  ...       81.0   140234   \n",
       "3    Robert Pattinson,  Zoë Kravitz,  Jeffrey Wrigh...       72.0   535289   \n",
       "4    Marlon Brando,  Al Pacino,  James Caan,  Diane...      100.0  1802882   \n",
       "..                                                 ...        ...      ...   \n",
       "645  Humphrey Bogart,  José Ferrer,  Van Johnson,  ...       63.0    27590   \n",
       "646  Paul Newman,  Jackie Gleason,  Piper Laurie,  ...       90.0    81485   \n",
       "647  James McAvoy,  Forest Whitaker,  Gillian Ander...       74.0   185221   \n",
       "648  Bruce Dern,  Will Forte,  June Squibb,  Bob Od...       87.0   117761   \n",
       "649  Fay Wray,  Robert Armstrong,  Bruce Cabot,  Fr...       90.0    84975   \n",
       "\n",
       "      Gross  \n",
       "0       NaN  \n",
       "1       NaN  \n",
       "2       NaN  \n",
       "3       NaN  \n",
       "4    134.97  \n",
       "..      ...  \n",
       "645   21.75  \n",
       "646    8.28  \n",
       "647   17.61  \n",
       "648   17.65  \n",
       "649   10.00  \n",
       "\n",
       "[650 rows x 11 columns]"
      ]
     },
     "execution_count": 20,
     "metadata": {},
     "output_type": "execute_result"
    }
   ],
   "source": [
    "Imdb.drop(['Unnamed: 0'],axis=1)"
   ]
  },
  {
   "cell_type": "code",
   "execution_count": 21,
   "metadata": {
    "ExecuteTime": {
     "end_time": "2022-07-09T12:34:21.556053Z",
     "start_time": "2022-07-09T12:34:21.529931Z"
    }
   },
   "outputs": [
    {
     "data": {
      "text/plain": [
       "Unnamed: 0         0.0 %\n",
       "movie_names        0.0 %\n",
       "release_year       4.0 %\n",
       "movie_runtime      0.0 %\n",
       "movie_genre        0.0 %\n",
       "movie_rating       0.0 %\n",
       "movie_ranking      0.0 %\n",
       "Movie_Director     0.0 %\n",
       "Movie_Stars        0.0 %\n",
       "metascore         4.31 %\n",
       "votes              0.0 %\n",
       "Gross             9.54 %\n",
       "dtype: object"
      ]
     },
     "execution_count": 21,
     "metadata": {},
     "output_type": "execute_result"
    }
   ],
   "source": [
    "# checking the percentage of missing value\n",
    "\n",
    "(Imdb.isnull().sum()*100/len(Imdb)).round(2).astype(str) + ' %'"
   ]
  },
  {
   "cell_type": "code",
   "execution_count": 22,
   "metadata": {
    "ExecuteTime": {
     "end_time": "2022-07-09T12:34:21.580091Z",
     "start_time": "2022-07-09T12:34:21.559146Z"
    }
   },
   "outputs": [
    {
     "data": {
      "text/plain": [
       "Unnamed: 0         0\n",
       "movie_names        0\n",
       "release_year      26\n",
       "movie_runtime      0\n",
       "movie_genre        0\n",
       "movie_rating       0\n",
       "movie_ranking      0\n",
       "Movie_Director     0\n",
       "Movie_Stars        0\n",
       "metascore         28\n",
       "votes              0\n",
       "Gross             62\n",
       "dtype: int64"
      ]
     },
     "execution_count": 22,
     "metadata": {},
     "output_type": "execute_result"
    }
   ],
   "source": [
    "Imdb.isnull().sum()"
   ]
  },
  {
   "cell_type": "markdown",
   "metadata": {},
   "source": [
    "## Drop missing values"
   ]
  },
  {
   "cell_type": "code",
   "execution_count": 23,
   "metadata": {
    "ExecuteTime": {
     "end_time": "2022-07-09T12:34:21.607779Z",
     "start_time": "2022-07-09T12:34:21.583580Z"
    }
   },
   "outputs": [
    {
     "data": {
      "text/plain": [
       "'17.85%'"
      ]
     },
     "execution_count": 23,
     "metadata": {},
     "output_type": "execute_result"
    }
   ],
   "source": [
    "# total number of missing records\n",
    "np.sum(Imdb.isna().sum())\n",
    "\n",
    "Imdb.shape\n",
    "\n",
    "# Pct of total missing rows in DF\n",
    "np.round(np.sum(Imdb.isna().sum())/len(Imdb)*100,2).astype(str) + '%'"
   ]
  },
  {
   "cell_type": "code",
   "execution_count": 24,
   "metadata": {
    "ExecuteTime": {
     "end_time": "2022-07-09T12:34:21.633895Z",
     "start_time": "2022-07-09T12:34:21.612050Z"
    }
   },
   "outputs": [],
   "source": [
    "Imdb.dropna(axis=0,how='any',inplace=True)"
   ]
  },
  {
   "cell_type": "code",
   "execution_count": 25,
   "metadata": {
    "ExecuteTime": {
     "end_time": "2022-07-09T12:34:21.652712Z",
     "start_time": "2022-07-09T12:34:21.643500Z"
    }
   },
   "outputs": [
    {
     "data": {
      "text/plain": [
       "(551, 12)"
      ]
     },
     "execution_count": 25,
     "metadata": {},
     "output_type": "execute_result"
    }
   ],
   "source": [
    "Imdb.shape"
   ]
  },
  {
   "cell_type": "code",
   "execution_count": 26,
   "metadata": {
    "ExecuteTime": {
     "end_time": "2022-07-09T12:34:21.676555Z",
     "start_time": "2022-07-09T12:34:21.659270Z"
    }
   },
   "outputs": [],
   "source": [
    "# Droping unwanted column\n",
    "Imdb.drop(['Unnamed: 0'],axis=1,inplace=True)"
   ]
  },
  {
   "cell_type": "code",
   "execution_count": 27,
   "metadata": {
    "ExecuteTime": {
     "end_time": "2022-07-09T12:34:21.693142Z",
     "start_time": "2022-07-09T12:34:21.680394Z"
    }
   },
   "outputs": [],
   "source": [
    "# reset indexing\n",
    "Imdb.reset_index(drop=True,inplace=True)"
   ]
  },
  {
   "cell_type": "code",
   "execution_count": 28,
   "metadata": {
    "ExecuteTime": {
     "end_time": "2022-07-09T12:34:21.716921Z",
     "start_time": "2022-07-09T12:34:21.698159Z"
    }
   },
   "outputs": [],
   "source": [
    "# type casting\n",
    "\n",
    "Imdb['release_year'] = Imdb['release_year'].astype(int)\n",
    "Imdb['movie_runtime'] = Imdb['movie_runtime'].astype(int)"
   ]
  },
  {
   "cell_type": "code",
   "execution_count": 29,
   "metadata": {
    "ExecuteTime": {
     "end_time": "2022-07-09T12:34:21.784986Z",
     "start_time": "2022-07-09T12:34:21.721505Z"
    }
   },
   "outputs": [
    {
     "data": {
      "text/html": [
       "<div>\n",
       "<style scoped>\n",
       "    .dataframe tbody tr th:only-of-type {\n",
       "        vertical-align: middle;\n",
       "    }\n",
       "\n",
       "    .dataframe tbody tr th {\n",
       "        vertical-align: top;\n",
       "    }\n",
       "\n",
       "    .dataframe thead th {\n",
       "        text-align: right;\n",
       "    }\n",
       "</style>\n",
       "<table border=\"1\" class=\"dataframe\">\n",
       "  <thead>\n",
       "    <tr style=\"text-align: right;\">\n",
       "      <th></th>\n",
       "      <th>movie_names</th>\n",
       "      <th>release_year</th>\n",
       "      <th>movie_runtime</th>\n",
       "      <th>movie_genre</th>\n",
       "      <th>movie_rating</th>\n",
       "      <th>movie_ranking</th>\n",
       "      <th>Movie_Director</th>\n",
       "      <th>Movie_Stars</th>\n",
       "      <th>metascore</th>\n",
       "      <th>votes</th>\n",
       "      <th>Gross</th>\n",
       "    </tr>\n",
       "  </thead>\n",
       "  <tbody>\n",
       "    <tr>\n",
       "      <th>546</th>\n",
       "      <td>The Caine Mutiny</td>\n",
       "      <td>1954</td>\n",
       "      <td>124</td>\n",
       "      <td>Drama, War</td>\n",
       "      <td>7.7</td>\n",
       "      <td>646</td>\n",
       "      <td>Edward Dmytryk</td>\n",
       "      <td>Humphrey Bogart,  José Ferrer,  Van Johnson,  ...</td>\n",
       "      <td>63.0</td>\n",
       "      <td>27590</td>\n",
       "      <td>21.75</td>\n",
       "    </tr>\n",
       "    <tr>\n",
       "      <th>547</th>\n",
       "      <td>The Hustler</td>\n",
       "      <td>1961</td>\n",
       "      <td>134</td>\n",
       "      <td>Drama, Sport</td>\n",
       "      <td>8.0</td>\n",
       "      <td>647</td>\n",
       "      <td>Robert Rossen</td>\n",
       "      <td>Paul Newman,  Jackie Gleason,  Piper Laurie,  ...</td>\n",
       "      <td>90.0</td>\n",
       "      <td>81485</td>\n",
       "      <td>8.28</td>\n",
       "    </tr>\n",
       "    <tr>\n",
       "      <th>548</th>\n",
       "      <td>The Last King of Scotland</td>\n",
       "      <td>2006</td>\n",
       "      <td>123</td>\n",
       "      <td>Biography, Drama, History</td>\n",
       "      <td>7.7</td>\n",
       "      <td>648</td>\n",
       "      <td>Kevin Macdonald</td>\n",
       "      <td>James McAvoy,  Forest Whitaker,  Gillian Ander...</td>\n",
       "      <td>74.0</td>\n",
       "      <td>185221</td>\n",
       "      <td>17.61</td>\n",
       "    </tr>\n",
       "    <tr>\n",
       "      <th>549</th>\n",
       "      <td>Nebraska</td>\n",
       "      <td>2013</td>\n",
       "      <td>115</td>\n",
       "      <td>Adventure, Comedy, Drama</td>\n",
       "      <td>7.7</td>\n",
       "      <td>649</td>\n",
       "      <td>Alexander Payne</td>\n",
       "      <td>Bruce Dern,  Will Forte,  June Squibb,  Bob Od...</td>\n",
       "      <td>87.0</td>\n",
       "      <td>117761</td>\n",
       "      <td>17.65</td>\n",
       "    </tr>\n",
       "    <tr>\n",
       "      <th>550</th>\n",
       "      <td>King Kong</td>\n",
       "      <td>1933</td>\n",
       "      <td>100</td>\n",
       "      <td>Adventure, Horror, Sci-Fi</td>\n",
       "      <td>7.9</td>\n",
       "      <td>650</td>\n",
       "      <td>Merian C. Cooper,  Ernest B. Schoedsack</td>\n",
       "      <td>Fay Wray,  Robert Armstrong,  Bruce Cabot,  Fr...</td>\n",
       "      <td>90.0</td>\n",
       "      <td>84975</td>\n",
       "      <td>10.00</td>\n",
       "    </tr>\n",
       "  </tbody>\n",
       "</table>\n",
       "</div>"
      ],
      "text/plain": [
       "                   movie_names  release_year  movie_runtime  \\\n",
       "546           The Caine Mutiny          1954            124   \n",
       "547                The Hustler          1961            134   \n",
       "548  The Last King of Scotland          2006            123   \n",
       "549                   Nebraska          2013            115   \n",
       "550                  King Kong          1933            100   \n",
       "\n",
       "                   movie_genre  movie_rating  movie_ranking  \\\n",
       "546                 Drama, War           7.7            646   \n",
       "547               Drama, Sport           8.0            647   \n",
       "548  Biography, Drama, History           7.7            648   \n",
       "549   Adventure, Comedy, Drama           7.7            649   \n",
       "550  Adventure, Horror, Sci-Fi           7.9            650   \n",
       "\n",
       "                              Movie_Director  \\\n",
       "546                           Edward Dmytryk   \n",
       "547                            Robert Rossen   \n",
       "548                          Kevin Macdonald   \n",
       "549                          Alexander Payne   \n",
       "550  Merian C. Cooper,  Ernest B. Schoedsack   \n",
       "\n",
       "                                           Movie_Stars  metascore   votes  \\\n",
       "546  Humphrey Bogart,  José Ferrer,  Van Johnson,  ...       63.0   27590   \n",
       "547  Paul Newman,  Jackie Gleason,  Piper Laurie,  ...       90.0   81485   \n",
       "548  James McAvoy,  Forest Whitaker,  Gillian Ander...       74.0  185221   \n",
       "549  Bruce Dern,  Will Forte,  June Squibb,  Bob Od...       87.0  117761   \n",
       "550  Fay Wray,  Robert Armstrong,  Bruce Cabot,  Fr...       90.0   84975   \n",
       "\n",
       "     Gross  \n",
       "546  21.75  \n",
       "547   8.28  \n",
       "548  17.61  \n",
       "549  17.65  \n",
       "550  10.00  "
      ]
     },
     "execution_count": 29,
     "metadata": {},
     "output_type": "execute_result"
    }
   ],
   "source": [
    "Imdb.tail()"
   ]
  },
  {
   "cell_type": "code",
   "execution_count": 30,
   "metadata": {
    "ExecuteTime": {
     "end_time": "2022-07-09T12:34:21.807271Z",
     "start_time": "2022-07-09T12:34:21.789973Z"
    }
   },
   "outputs": [
    {
     "data": {
      "text/plain": [
       "movie_names       0\n",
       "release_year      0\n",
       "movie_runtime     0\n",
       "movie_genre       0\n",
       "movie_rating      0\n",
       "movie_ranking     0\n",
       "Movie_Director    0\n",
       "Movie_Stars       0\n",
       "metascore         0\n",
       "votes             0\n",
       "Gross             0\n",
       "dtype: int64"
      ]
     },
     "execution_count": 30,
     "metadata": {},
     "output_type": "execute_result"
    }
   ],
   "source": [
    "Imdb.isnull().sum()"
   ]
  },
  {
   "cell_type": "code",
   "execution_count": 32,
   "metadata": {
    "ExecuteTime": {
     "end_time": "2022-07-09T12:35:32.177708Z",
     "start_time": "2022-07-09T12:35:32.156687Z"
    }
   },
   "outputs": [],
   "source": [
    "Imdb.to_csv(r'C:\\Datascience\\Imdb_EDA.csv') "
   ]
  },
  {
   "cell_type": "code",
   "execution_count": null,
   "metadata": {},
   "outputs": [],
   "source": []
  }
 ],
 "metadata": {
  "kernelspec": {
   "display_name": "Python 3",
   "language": "python",
   "name": "python3"
  },
  "language_info": {
   "codemirror_mode": {
    "name": "ipython",
    "version": 3
   },
   "file_extension": ".py",
   "mimetype": "text/x-python",
   "name": "python",
   "nbconvert_exporter": "python",
   "pygments_lexer": "ipython3",
   "version": "3.8.5"
  },
  "toc": {
   "base_numbering": 1,
   "nav_menu": {},
   "number_sections": true,
   "sideBar": true,
   "skip_h1_title": false,
   "title_cell": "Table of Contents",
   "title_sidebar": "Contents",
   "toc_cell": false,
   "toc_position": {},
   "toc_section_display": true,
   "toc_window_display": false
  },
  "varInspector": {
   "cols": {
    "lenName": 16,
    "lenType": 16,
    "lenVar": 40
   },
   "kernels_config": {
    "python": {
     "delete_cmd_postfix": "",
     "delete_cmd_prefix": "del ",
     "library": "var_list.py",
     "varRefreshCmd": "print(var_dic_list())"
    },
    "r": {
     "delete_cmd_postfix": ") ",
     "delete_cmd_prefix": "rm(",
     "library": "var_list.r",
     "varRefreshCmd": "cat(var_dic_list()) "
    }
   },
   "types_to_exclude": [
    "module",
    "function",
    "builtin_function_or_method",
    "instance",
    "_Feature"
   ],
   "window_display": false
  }
 },
 "nbformat": 4,
 "nbformat_minor": 5
}
